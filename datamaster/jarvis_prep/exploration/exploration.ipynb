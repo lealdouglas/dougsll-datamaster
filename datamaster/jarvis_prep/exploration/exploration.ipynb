{
 "cells": [
  {
   "cell_type": "code",
   "execution_count": null,
   "metadata": {},
   "outputs": [],
   "source": [
    "%load_ext autoreload\n",
    "%autoreload 2"
   ]
  },
  {
   "cell_type": "code",
   "execution_count": null,
   "metadata": {
    "application/vnd.databricks.v1+cell": {
     "cellMetadata": {
      "byteLimit": 2048000,
      "rowLimit": 10000
     },
     "inputWidgets": {},
     "nuid": "6bca260b-13d1-448f-8082-30b60a85c9ae",
     "showTitle": false,
     "title": ""
    }
   },
   "outputs": [],
   "source": [
    "import sys\n",
    "sys.path.append('../definition_project')\n",
    "\n",
    "from definition_project.main import main, merge_silver\n",
    "\n",
    "main()"
   ]
  },
  {
   "cell_type": "code",
   "execution_count": null,
   "metadata": {},
   "outputs": [],
   "source": [
    "from pyspark.sql import SparkSession\n",
    "from delta.tables import DeltaTable\n",
    "\n",
    "# Inicializa a SparkSession com suporte ao Delta Lake\n",
    "spark = SparkSession.builder.getOrCreate()\n",
    "\n",
    "# Exemplo de dados novos para atualização\n",
    "new_data = [\n",
    "    (1234567890, \"João Silva\", \"new_email1@example.com\", \"New City 1\"),\n",
    "]\n",
    "\n",
    "# Exemplo de dados novos para atualização\n",
    "# new_data = [\n",
    "#     (1234567890, \"João Silva\", \"teste@example.com\", \"New City 2\"),\n",
    "# ]\n",
    "\n",
    "table_name = 'crisk.silver.account'\n",
    "\n",
    "# Criação de um DataFrame com os dados novos\n",
    "columns = [\"user_id\", \"name\", \"email\", \"city\"]\n",
    "new_df = spark.createDataFrame(new_data, columns )\n",
    "\n",
    "# Exibe os dados atualizados\n",
    "merge_silver(spark, new_df, table_name)\n",
    "\n",
    "updated_df = spark.table(table_name).filter('user_id = 1234567890')\n",
    "updated_df.show()\n"
   ]
  }
 ],
 "metadata": {
  "application/vnd.databricks.v1+notebook": {
   "dashboards": [],
   "language": "python",
   "notebookMetadata": {
    "pythonIndentUnit": 2
   },
   "notebookName": "ipynb-notebook",
   "widgets": {}
  },
  "kernelspec": {
   "display_name": "Python 3",
   "language": "python",
   "name": "python3"
  },
  "language_info": {
   "name": "python",
   "version": "3.11.4"
  }
 },
 "nbformat": 4,
 "nbformat_minor": 0
}
